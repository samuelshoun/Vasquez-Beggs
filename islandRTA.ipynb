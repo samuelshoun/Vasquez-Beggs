{
 "cells": [
  {
   "cell_type": "code",
   "execution_count": 259,
   "id": "regular-healing",
   "metadata": {},
   "outputs": [],
   "source": [
    "import numpy as np\n",
    "import matplotlib.pyplot as plt\n",
    "import seaborn as sns\n",
    "sns.set()"
   ]
  },
  {
   "cell_type": "markdown",
   "id": "incoming-charge",
   "metadata": {},
   "source": [
    "### Input Parameters:\n",
    "\n",
    "<strong>B<sub>o</sub>: Oil Formation Volume Factor</strong> <br>\n",
    "STB/RB<br>\n",
    "\n",
    "<strong>S<sub>o</sub>: Oil Saturation</strong> <br>\n",
    "decimal<br>\n",
    "Fraction of Pore Volume occupied by oil\n",
    "\n",
    "<strong>N<sub>p</sub>: Produced Oil Volume</strong><br>\n",
    "STB<br>\n",
    "Volume of oil removed from reservoir\n",
    "    \n",
    "<strong>c<sub>o</sub>: Oil Compressibility</strong><br>\n",
    "1/psi<br>\n",
    "Change in volume for a given volume of oil per additional psi\n",
    "\n",
    "mu: oil viscosity\n",
    "cp\n",
    "viscosity of oil at reservoir conditions\n",
    "\n",
    "re: reservoir edge radius\n",
    "feet\n",
    "Distance from wellbore to edge of drainage area.\n",
    "\n",
    "rwa: Apparent Wellbore Radius\n",
    "feet\n",
    "An equivalent wellbore radius after accounting for reservoir skin\n",
    "\n",
    "Boi: Oil Formation Volume Factor, Initial\n",
    "STB/RB\n",
    "\n",
    "k: Reservoir Permeability to Oil\n",
    "\n",
    "h: Reservoir Height\n",
    "\n",
    "q: Oil Flow Rate\n",
    "STB/D\n",
    "\n",
    "pi: Reservoir Pressure, Initial\n",
    "PSI\n",
    "\n",
    "pwf: Flowing Pressure\n",
    "PSI\n",
    "Pressure read or estimated at the inflow point of the wellbore\n",
    "\n",
    "Bg: Formation Volume Factor, Gas\n",
    "\n",
    "\n",
    "Rs: Solution Gas-Oil Ratio\n",
    "SCF/B\n"
   ]
  },
  {
   "cell_type": "code",
   "execution_count": 260,
   "id": "chronic-hands",
   "metadata": {},
   "outputs": [],
   "source": [
    "class vb_oil:\n",
    "# class to deal with oil fluid properties\n",
    "# according to the Vasquez & Beggs correlations\n",
    "    \n",
    "    if Yo > 30:\n",
    "        c1 = .0178\n",
    "        c2 = 1.187\n",
    "        c3 = 23.931\n",
    "    else:\n",
    "        c1 = .0362\n",
    "        c2 = 1.0937\n",
    "        c3 = 25.724    \n",
    "    \n",
    "    def __init__(self, Yo, Yg, Rsi, T):\n",
    "        self.Yo = Yo\n",
    "        self.Yg = Yg\n",
    "        self.Rsi = Rsi\n",
    "        self.T = T\n",
    "        \n",
    "        self.Pb = (Rsi / (c1 * Yg * np.exp(c3 * (Yo / (T + 460))))) ** (1 / c2)\n",
    "\n",
    "\n",
    "    def get_Rs(self, P):\n",
    "        if P > self.Pb:\n",
    "            Rs = self.Rsi\n",
    "        else:\n",
    "            Rs = c1 * Yg * P**c2 * np.exp(c3 * (Yo / (t + 460)))\n",
    "        return Rs\n",
    "\n",
    "    def plot_Rs(self):\n",
    "        x1, x2, x3 = 1, self.Pb, 1.5*self.Pb\n",
    "        y1, y2, y3 = self.get_Rs(x1), self.get_Rs(x2), self.get_Rs(x3)\n",
    "        plt.plot([x1, x2, x3], [y1, y2, y3])\n",
    "        plt.ylim(None, 1.5 * y3)\n",
    "        plt.xlabel('Pressure (PSI)')\n",
    "        plt.ylabel('Rs');"
   ]
  },
  {
   "cell_type": "code",
   "execution_count": 265,
   "id": "refined-waste",
   "metadata": {},
   "outputs": [],
   "source": [
    "oil = vb_oil(42, .75, 800, 180)"
   ]
  },
  {
   "cell_type": "code",
   "execution_count": 266,
   "id": "abroad-calcium",
   "metadata": {},
   "outputs": [
    {
     "data": {
      "image/png": "[encoded data removed]",
      "text/plain": [
       "<Figure size 432x288 with 1 Axes>"
      ]
     },
     "metadata": {},
     "output_type": "display_data"
    }
   ],
   "source": [
    "oil.plot_Rs()"
   ]
  },
  {
   "cell_type": "code",
   "execution_count": 267,
   "id": "distant-identification",
   "metadata": {},
   "outputs": [
    {
     "data": {
      "text/plain": [
       "800"
      ]
     },
     "execution_count": 267,
     "metadata": {},
     "output_type": "execute_result"
    }
   ],
   "source": [
    "oil.get_Rs(3000)"
   ]
  },
  {
   "cell_type": "code",
   "execution_count": 269,
   "id": "monthly-journalism",
   "metadata": {},
   "outputs": [
    {
     "data": {
      "text/plain": [
       "2820.633319605731"
      ]
     },
     "execution_count": 269,
     "metadata": {},
     "output_type": "execute_result"
    }
   ],
   "source": [
    "oil.Pb"
   ]
  },
  {
   "cell_type": "code",
   "execution_count": null,
   "id": "strange-globe",
   "metadata": {},
   "outputs": [],
   "source": []
  }
 ],
 "metadata": {
  "kernelspec": {
   "display_name": "Python 3",
   "language": "python",
   "name": "python3"
  },
  "language_info": {
   "codemirror_mode": {
    "name": "ipython",
    "version": 3
   },
   "file_extension": ".py",
   "mimetype": "text/x-python",
   "name": "python",
   "nbconvert_exporter": "python",
   "pygments_lexer": "ipython3",
   "version": "3.7.9"
  }
 },
 "nbformat": 4,
 "nbformat_minor": 5
}
