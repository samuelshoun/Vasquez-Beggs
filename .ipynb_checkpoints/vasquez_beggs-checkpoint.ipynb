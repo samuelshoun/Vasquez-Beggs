{
 "cells": [
  {
   "cell_type": "code",
   "execution_count": 1,
   "id": "regular-healing",
   "metadata": {},
   "outputs": [],
   "source": [
    "import numpy as np\n",
    "import matplotlib.pyplot as plt\n",
    "import seaborn as sns\n",
    "sns.set()\n",
    "import pandas as pd"
   ]
  },
  {
   "cell_type": "markdown",
   "id": "stable-campbell",
   "metadata": {},
   "source": [
    "https://www.ihsenergy.ca/support/documentation_ca/WellTest/content/html_files/reference_materials/calculations_correlations/oil_correlations.htm#Vasquez"
   ]
  },
  {
   "cell_type": "markdown",
   "id": "incoming-charge",
   "metadata": {},
   "source": [
    "### Input Parameters:\n",
    "\n",
    "<strong>B<sub>o</sub>: Oil Formation Volume Factor</strong> <br>\n",
    "STB/RB<br>\n",
    "\n",
    "<strong>S<sub>o</sub>: Oil Saturation</strong> <br>\n",
    "decimal<br>\n",
    "Fraction of Pore Volume occupied by oil\n",
    "\n",
    "<strong>N<sub>p</sub>: Produced Oil Volume</strong><br>\n",
    "STB<br>\n",
    "Volume of oil removed from reservoir\n",
    "    \n",
    "<strong>c<sub>o</sub>: Oil Compressibility</strong><br>\n",
    "1/psi<br>\n",
    "Change in volume for a given volume of oil per additional psi\n",
    "\n",
    "mu: oil viscosity\n",
    "cp\n",
    "viscosity of oil at reservoir conditions\n",
    "\n",
    "re: reservoir edge radius\n",
    "feet\n",
    "Distance from wellbore to edge of drainage area.\n",
    "\n",
    "rwa: Apparent Wellbore Radius\n",
    "feet\n",
    "An equivalent wellbore radius after accounting for reservoir skin\n",
    "\n",
    "Boi: Oil Formation Volume Factor, Initial\n",
    "STB/RB\n",
    "\n",
    "k: Reservoir Permeability to Oil\n",
    "\n",
    "h: Reservoir Height\n",
    "\n",
    "q: Oil Flow Rate\n",
    "STB/D\n",
    "\n",
    "pi: Reservoir Pressure, Initial\n",
    "PSI\n",
    "\n",
    "pwf: Flowing Pressure\n",
    "PSI\n",
    "Pressure read or estimated at the inflow point of the wellbore\n",
    "\n",
    "Bg: Formation Volume Factor, Gas\n",
    "\n",
    "\n",
    "Rs: Solution Gas-Oil Ratio\n",
    "SCF/B\n"
   ]
  },
  {
   "cell_type": "code",
   "execution_count": 2,
   "id": "chronic-hands",
   "metadata": {},
   "outputs": [],
   "source": [
    "class vb_oil:\n",
    "# class to deal with oil fluid properties\n",
    "# according to the Vasquez & Beggs correlations\n",
    "\n",
    "\n",
    "    def __init__(self, Yo, Yg, Rsi, T):\n",
    "        self.Yo = Yo\n",
    "        self.Yg = Yg\n",
    "        self.Rsi = Rsi\n",
    "        self.T = T\n",
    "        \n",
    "        self.Pb = self.get_Pb()\n",
    "        \n",
    "        self.co = .000006 # for now...need to add a co function later\n",
    "\n",
    "        \n",
    "    def get_Rs(self, P):\n",
    "\n",
    "        if self.Yo > 30:\n",
    "            c1 = .0178\n",
    "            c2 = 1.187\n",
    "            c3 = 23.931\n",
    "        else:\n",
    "            c1 = .0362\n",
    "            c2 = 1.0937\n",
    "            c3 = 25.724    \n",
    "\n",
    "        if P > self.Pb:\n",
    "            Rs = self.Rsi\n",
    "        else:\n",
    "            Rs = c1 * self.Yg * P**c2 * np.exp(c3 * (self.Yo / (self.T + 460)))\n",
    "        return Rs\n",
    "    \n",
    "    \n",
    "    def get_Pb(self):\n",
    "\n",
    "        if self.Yo > 30:\n",
    "            c1 = .0178\n",
    "            c2 = 1.187\n",
    "            c3 = 23.931\n",
    "        else:\n",
    "            c1 = .0362\n",
    "            c2 = 1.0937\n",
    "            c3 = 25.724\n",
    "        \n",
    "        Pb = (self.Rsi / (c1 * self.Yg * np.exp(c3 * (self.Yo / (self.T + 460))))) ** (1 / c2)\n",
    "        return Pb\n",
    "\n",
    "\n",
    "    def plot_Rs(self):\n",
    "        x1, x2, x3 = 1, self.Pb, 1.5*self.Pb\n",
    "        y1, y2, y3 = self.get_Rs(x1), self.get_Rs(x2), self.get_Rs(x3)\n",
    "        plt.figure(figsize=(4,3))\n",
    "        plt.plot([x1, x2, x3], [y1, y2, y3])\n",
    "        plt.ylim(None, 1.2 * y3)\n",
    "        plt.xlabel('Pressure (PSI)')\n",
    "        plt.ylabel('Rs');\n",
    "        \n",
    "\n",
    "    def get_Bo(self, P):\n",
    "        \n",
    "        if self.Yo > 30:\n",
    "            c1 = 4.67e-4\n",
    "            c2 = 1.1e-5\n",
    "            c3 = 1.377e-9\n",
    "        else:\n",
    "            c1 = 4.677e-4\n",
    "            c2 = 1.751e-5\n",
    "            c3 = -1.811e-8\n",
    "\n",
    "        Bob = 1 + c1 * self.get_Rs(self.Pb) + c2 * (self.T - 60) * (self.Yo / self.Yg) + c3 * self.get_Rs(self.Pb) * (self.T - 60) * (self.Yo / self.Yg)\n",
    "        \n",
    "        if P < self.Pb:\n",
    "            Bo = 1 + c1 * self.get_Rs(P) + c2 * (self.T - 60) * (self.Yo / self.Yg) + c3 * self.get_Rs(P) * (self.T - 60) * (self.Yo / self.Yg)\n",
    "        else:\n",
    "            Bo = Bob * np.exp(self.co * (self.Pb - P))\n",
    "        \n",
    "        return Bo\n",
    "\n",
    "    \n",
    "    def plot_Bo(self):\n",
    "        xs = []\n",
    "        ys = []\n",
    "        psubi = 0\n",
    "        n = 1000\n",
    "        for i in range(n):\n",
    "            xs.append(psubi)\n",
    "            ys.append(self.get_Bo(psubi))\n",
    "            psubi = psubi + self.Pb * 1.5 / n\n",
    "        plt.figure(figsize=(4,3))\n",
    "        plt.plot(xs, ys);\n",
    "        plt.xlabel('Pressure (PSI)')\n",
    "        plt.ylabel('Oil FVF')\n",
    "    \n",
    "    def summary(self):\n",
    "        return pd.DataFrame({'Value': self.__dict__.values()}, index=self.__dict__.keys())"
   ]
  },
  {
   "cell_type": "markdown",
   "id": "latest-drinking",
   "metadata": {},
   "source": [
    "#### Create an instance of the vb_oil class:"
   ]
  },
  {
   "cell_type": "code",
   "execution_count": 4,
   "id": "refined-waste",
   "metadata": {},
   "outputs": [],
   "source": [
    "oil = vb_oil(42, .75, 800, 160)"
   ]
  },
  {
   "cell_type": "markdown",
   "id": "saving-translator",
   "metadata": {},
   "source": [
    "#### Test the vb_oil methods using the created instance:"
   ]
  },
  {
   "cell_type": "code",
   "execution_count": 5,
   "id": "pregnant-reggae",
   "metadata": {},
   "outputs": [
    {
     "data": {
      "text/plain": [
       "['Pb',\n",
       " 'Rsi',\n",
       " 'T',\n",
       " 'Yg',\n",
       " 'Yo',\n",
       " 'co',\n",
       " 'get_Bo',\n",
       " 'get_Pb',\n",
       " 'get_Rs',\n",
       " 'plot_Bo',\n",
       " 'plot_Rs',\n",
       " 'summary']"
      ]
     },
     "execution_count": 5,
     "metadata": {},
     "output_type": "execute_result"
    }
   ],
   "source": [
    "[i for i in dir(oil) if not i.startswith('__')]"
   ]
  },
  {
   "cell_type": "code",
   "execution_count": 6,
   "id": "beginning-stand",
   "metadata": {},
   "outputs": [
    {
     "data": {
      "text/html": [
       "<div>\n",
       "<style scoped>\n",
       "    .dataframe tbody tr th:only-of-type {\n",
       "        vertical-align: middle;\n",
       "    }\n",
       "\n",
       "    .dataframe tbody tr th {\n",
       "        vertical-align: top;\n",
       "    }\n",
       "\n",
       "    .dataframe thead th {\n",
       "        text-align: right;\n",
       "    }\n",
       "</style>\n",
       "<table border=\"1\" class=\"dataframe\">\n",
       "  <thead>\n",
       "    <tr style=\"text-align: right;\">\n",
       "      <th></th>\n",
       "      <th>Value</th>\n",
       "    </tr>\n",
       "  </thead>\n",
       "  <tbody>\n",
       "    <tr>\n",
       "      <th>Yo</th>\n",
       "      <td>42.000000</td>\n",
       "    </tr>\n",
       "    <tr>\n",
       "      <th>Yg</th>\n",
       "      <td>0.750000</td>\n",
       "    </tr>\n",
       "    <tr>\n",
       "      <th>Rsi</th>\n",
       "      <td>800.000000</td>\n",
       "    </tr>\n",
       "    <tr>\n",
       "      <th>T</th>\n",
       "      <td>160.000000</td>\n",
       "    </tr>\n",
       "    <tr>\n",
       "      <th>Pb</th>\n",
       "      <td>2702.783305</td>\n",
       "    </tr>\n",
       "    <tr>\n",
       "      <th>co</th>\n",
       "      <td>0.000006</td>\n",
       "    </tr>\n",
       "  </tbody>\n",
       "</table>\n",
       "</div>"
      ],
      "text/plain": [
       "           Value\n",
       "Yo     42.000000\n",
       "Yg      0.750000\n",
       "Rsi   800.000000\n",
       "T     160.000000\n",
       "Pb   2702.783305\n",
       "co      0.000006"
      ]
     },
     "execution_count": 6,
     "metadata": {},
     "output_type": "execute_result"
    }
   ],
   "source": [
    "oil.summary()"
   ]
  },
  {
   "cell_type": "code",
   "execution_count": 7,
   "id": "significant-parallel",
   "metadata": {
    "scrolled": false
   },
   "outputs": [
    {
     "data": {
      "image/png": "[encoded data removed]",
      "text/plain": [
       "<Figure size 288x216 with 1 Axes>"
      ]
     },
     "metadata": {},
     "output_type": "display_data"
    },
    {
     "data": {
      "image/png": "[encoded data removed]",
      "text/plain": [
       "<Figure size 288x216 with 1 Axes>"
      ]
     },
     "metadata": {},
     "output_type": "display_data"
    }
   ],
   "source": [
    "oil.plot_Rs()\n",
    "oil.plot_Bo()"
   ]
  }
 ],
 "metadata": {
  "kernelspec": {
   "display_name": "Python 3",
   "language": "python",
   "name": "python3"
  },
  "language_info": {
   "codemirror_mode": {
    "name": "ipython",
    "version": 3
   },
   "file_extension": ".py",
   "mimetype": "text/x-python",
   "name": "python",
   "nbconvert_exporter": "python",
   "pygments_lexer": "ipython3",
   "version": "3.7.9"
  }
 },
 "nbformat": 4,
 "nbformat_minor": 5
}
