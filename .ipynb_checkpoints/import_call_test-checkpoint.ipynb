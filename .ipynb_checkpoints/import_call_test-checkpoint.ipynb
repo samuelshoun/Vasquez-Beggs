{
 "cells": [
  {
   "cell_type": "code",
   "execution_count": 1,
   "id": "addressed-notice",
   "metadata": {},
   "outputs": [
    {
     "data": {
      "text/plain": [
       "'C:\\\\Users\\\\samue\\\\Documents\\\\GitHub\\\\Vasquez-Beggs'"
      ]
     },
     "execution_count": 1,
     "metadata": {},
     "output_type": "execute_result"
    }
   ],
   "source": [
    "import numpy as np\n",
    "import pandas as pd\n",
    "import matplotlib.pyplot as plt\n",
    "import seaborn as sns\n",
    "sns.set()\n",
    "\n",
    "import os\n",
    "os.getcwd()"
   ]
  },
  {
   "cell_type": "code",
   "execution_count": 2,
   "id": "isolated-fever",
   "metadata": {},
   "outputs": [],
   "source": [
    "from vb_oil import vb_oil"
   ]
  },
  {
   "cell_type": "code",
   "execution_count": 3,
   "id": "informed-google",
   "metadata": {},
   "outputs": [],
   "source": [
    "oil1 = vb_oil(42, .75, 800, 120)"
   ]
  },
  {
   "cell_type": "code",
   "execution_count": 9,
   "id": "chicken-founder",
   "metadata": {},
   "outputs": [
    {
     "data": {
      "image/png": "[encoded data removed]",
      "text/plain": [
       "<Figure size 288x216 with 1 Axes>"
      ]
     },
     "metadata": {},
     "output_type": "display_data"
    }
   ],
   "source": [
    "oil1.plot_Rs()"
   ]
  },
  {
   "cell_type": "code",
   "execution_count": 10,
   "id": "becoming-fairy",
   "metadata": {},
   "outputs": [
    {
     "data": {
      "image/png": "[encoded data removed]",
      "text/plain": [
       "<Figure size 288x216 with 1 Axes>"
      ]
     },
     "metadata": {},
     "output_type": "display_data"
    }
   ],
   "source": [
    "oil1.plot_Bo()"
   ]
  },
  {
   "cell_type": "code",
   "execution_count": 5,
   "id": "unusual-seeking",
   "metadata": {},
   "outputs": [
    {
     "name": "stdout",
     "output_type": "stream",
     "text": [
      "<class 'vb_oil.vb_oil'>\n"
     ]
    }
   ],
   "source": [
    "print(vb_oil)"
   ]
  },
  {
   "cell_type": "code",
   "execution_count": 6,
   "id": "happy-spice",
   "metadata": {},
   "outputs": [
    {
     "name": "stdout",
     "output_type": "stream",
     "text": [
      "Vasquez-Beggs Oil\n",
      "            Yo  = 42\n",
      "            Yg  = 0.75\n",
      "            Rsi = 800\n",
      "            T   = 120\n"
     ]
    }
   ],
   "source": [
    "print(oil1)"
   ]
  },
  {
   "cell_type": "code",
   "execution_count": 7,
   "id": "documented-bunch",
   "metadata": {},
   "outputs": [
    {
     "data": {
      "text/html": [
       "<div>\n",
       "<style scoped>\n",
       "    .dataframe tbody tr th:only-of-type {\n",
       "        vertical-align: middle;\n",
       "    }\n",
       "\n",
       "    .dataframe tbody tr th {\n",
       "        vertical-align: top;\n",
       "    }\n",
       "\n",
       "    .dataframe thead th {\n",
       "        text-align: right;\n",
       "    }\n",
       "</style>\n",
       "<table border=\"1\" class=\"dataframe\">\n",
       "  <thead>\n",
       "    <tr style=\"text-align: right;\">\n",
       "      <th></th>\n",
       "      <th>Value</th>\n",
       "    </tr>\n",
       "  </thead>\n",
       "  <tbody>\n",
       "    <tr>\n",
       "      <th>Yo</th>\n",
       "      <td>42.000000</td>\n",
       "    </tr>\n",
       "    <tr>\n",
       "      <th>Yg</th>\n",
       "      <td>0.750000</td>\n",
       "    </tr>\n",
       "    <tr>\n",
       "      <th>Rsi</th>\n",
       "      <td>800.000000</td>\n",
       "    </tr>\n",
       "    <tr>\n",
       "      <th>T</th>\n",
       "      <td>120.000000</td>\n",
       "    </tr>\n",
       "    <tr>\n",
       "      <th>Pb</th>\n",
       "      <td>2459.832345</td>\n",
       "    </tr>\n",
       "    <tr>\n",
       "      <th>co</th>\n",
       "      <td>0.000006</td>\n",
       "    </tr>\n",
       "  </tbody>\n",
       "</table>\n",
       "</div>"
      ],
      "text/plain": [
       "           Value\n",
       "Yo     42.000000\n",
       "Yg      0.750000\n",
       "Rsi   800.000000\n",
       "T     120.000000\n",
       "Pb   2459.832345\n",
       "co      0.000006"
      ]
     },
     "execution_count": 7,
     "metadata": {},
     "output_type": "execute_result"
    }
   ],
   "source": [
    "oil1.summary()"
   ]
  },
  {
   "cell_type": "code",
   "execution_count": 8,
   "id": "nervous-courage",
   "metadata": {},
   "outputs": [
    {
     "data": {
      "text/plain": [
       "'vb_oil(42, 0.75, 800, 120)'"
      ]
     },
     "execution_count": 8,
     "metadata": {},
     "output_type": "execute_result"
    }
   ],
   "source": [
    "oil1.__repr__()"
   ]
  },
  {
   "cell_type": "code",
   "execution_count": null,
   "id": "spectacular-suicide",
   "metadata": {},
   "outputs": [],
   "source": []
  }
 ],
 "metadata": {
  "kernelspec": {
   "display_name": "Python 3",
   "language": "python",
   "name": "python3"
  },
  "language_info": {
   "codemirror_mode": {
    "name": "ipython",
    "version": 3
   },
   "file_extension": ".py",
   "mimetype": "text/x-python",
   "name": "python",
   "nbconvert_exporter": "python",
   "pygments_lexer": "ipython3",
   "version": "3.7.9"
  }
 },
 "nbformat": 4,
 "nbformat_minor": 5
}
