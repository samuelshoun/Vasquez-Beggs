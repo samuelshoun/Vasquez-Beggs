{
 "cells": [
  {
   "cell_type": "code",
   "execution_count": 1,
   "id": "regular-healing",
   "metadata": {},
   "outputs": [],
   "source": [
    "import numpy as np\n",
    "import matplotlib.pyplot as plt\n",
    "import seaborn as sns\n",
    "sns.set()\n",
    "import pandas as pd"
   ]
  },
  {
   "cell_type": "markdown",
   "id": "mediterranean-failure",
   "metadata": {},
   "source": [
    "https://www.ihsenergy.ca/support/documentation_ca/WellTest/content/html_files/reference_materials/calculations_correlations/oil_correlations.htm#Vasquez"
   ]
  },
  {
   "cell_type": "markdown",
   "id": "incoming-charge",
   "metadata": {},
   "source": [
    "<h3><u>Input Parameters:</h3></u>\n",
    "\n",
    "<strong>Y<sub>o</sub>: Oil Specific Gravity</strong> <br>\n",
    "Degrees API<br>\n",
    "\n",
    "<strong>Y<sub>g</sub>: Gas Specific Gravity</strong> <br>\n",
    "Decimal<br>\n",
    "\n",
    "<strong>R<sub>si</sub>: Initial Solution Gas-Oil Ratio</strong> <br>\n",
    "SCF/STB<br>\n",
    "\n",
    "<strong>T: Temperature</strong> <br>\n",
    "Degrees Fahrenheit<br>\n",
    "\n",
    "<h3><u>Outputs:</h3></u>\n",
    "\n",
    "<strong>B<sub>o</sub>: Oil Formation Volume Factor</strong> <br>\n",
    "STB/RB<br>\n",
    "\n",
    "<strong>S<sub>o</sub>: Oil Saturation</strong> <br>\n",
    "decimal<br>\n",
    "\n",
    "<strong>c<sub>o</sub>: Oil Compressibility</strong><br>\n",
    "1/psi<br>\n",
    "\n",
    "<strong>B<sub>oi</sub>: Oil Formation Volume Factor, Initial</strong><br>\n",
    "STB/RB<br>\n",
    "\n",
    "<strong>B<sub>g</sub>: Formation Volume Factor, Gas</strong><br>\n",
    "\n",
    "<strong>R<sub>s</sub>: Solution Gas-Oil Ratio</strong><br>\n",
    "SCF/B<br>"
   ]
  },
  {
   "cell_type": "code",
   "execution_count": 2,
   "id": "chronic-hands",
   "metadata": {},
   "outputs": [],
   "source": [
    "class vb_oil:\n",
    "    '''\n",
    "    ...\n",
    "    An instance of the vb_oil class represents a liquid that\n",
    "    behaves as described by the Vasquez-Beggs Oil Correlation.\n",
    "    \n",
    "    ...\n",
    "    Required Arguments:\n",
    "    --------\n",
    "    Yo :    Oil Specific Gravity (degrees API)\n",
    "    Yg :    Gas Specific Gravity (decimal ratio)\n",
    "    Rsi:    Initial Solution Gas-Oil Ratio (SCF/STB)\n",
    "    T  :    Temperature (degrees Fahrenheit)\n",
    "    \n",
    "    ...\n",
    "    Methods\n",
    "    --------\n",
    "    get_Rs(P) : returns the solution gas-oil ratio of the fluid at a\n",
    "                given pressure\n",
    "    get_Pb()  : returns the bubble-point pressure of the fluid based\n",
    "                on fluid parameters entered as arguments in the class\n",
    "    plot_Rs() : returns a chart showing solution gas-oil ratio behavior\n",
    "                from pressure = 0 PSIG to pressure = 1.3 * Pb\n",
    "    get_Bo(P) : returns the oil formation volume factor in Stocktank Barrels \n",
    "                per Reservoir Barrel (STB/RB) at a given pressure\n",
    "    plot_Bo() : returns a chart showing oil formation volume factor behavior\n",
    "                from pressure = 0 PSIG to pressure = 1.3 * Pb\n",
    "    summary() : returns a Pandas dataframe summarizing key fluid properties\n",
    "    \n",
    "    ...\n",
    "    \n",
    "    '''\n",
    "\n",
    "    def __init__(self, Yo, Yg, Rsi, T):\n",
    "        self.Yo = Yo\n",
    "        self.Yg = Yg\n",
    "        self.Rsi = Rsi\n",
    "        self.T = T\n",
    "        \n",
    "        self.Pb = self.get_Pb()\n",
    "        \n",
    "        self.co = .000006 # for now...need to add a co function later\n",
    "\n",
    "        \n",
    "    def get_Rs(self, P):\n",
    "\n",
    "        if self.Yo > 30:\n",
    "            c1 = .0178\n",
    "            c2 = 1.187\n",
    "            c3 = 23.931\n",
    "        else:\n",
    "            c1 = .0362\n",
    "            c2 = 1.0937\n",
    "            c3 = 25.724    \n",
    "\n",
    "        if P > self.Pb:\n",
    "            Rs = self.Rsi\n",
    "        else:\n",
    "            Rs = c1 * self.Yg * P**c2 * numpy.exp(c3 * (self.Yo / (self.T + 460)))\n",
    "        return Rs\n",
    "    \n",
    "    \n",
    "    def get_Pb(self):\n",
    "\n",
    "        if self.Yo > 30:\n",
    "            c1 = .0178\n",
    "            c2 = 1.187\n",
    "            c3 = 23.931\n",
    "        else:\n",
    "            c1 = .0362\n",
    "            c2 = 1.0937\n",
    "            c3 = 25.724\n",
    "        \n",
    "        Pb = (self.Rsi / (c1 * self.Yg * numpy.exp(c3 * (self.Yo / (self.T + 460))))) ** (1 / c2)\n",
    "        return Pb\n",
    "\n",
    "\n",
    "    def plot_Rs(self):\n",
    "        xs = numpy.linspace(0, self.Pb, 1000).tolist()\n",
    "        ys = []\n",
    "        \n",
    "        for i in xs:\n",
    "            ys.append(self.get_Rs(i))\n",
    "\n",
    "        \n",
    "        x2, x3 = self.Pb, 1.5 * self.Pb\n",
    "        y2, y3 = self.get_Rs(x2), self.get_Rs(x3)\n",
    "        \n",
    "        xs.extend([x2, x3])\n",
    "        ys.extend([y2, y3])\n",
    "        \n",
    "        plt.figure(figsize=(4,3))\n",
    "        plt.plot(xs, ys)\n",
    "        plt.ylim(None, 1.2 * y3)\n",
    "        plt.xlabel('Pressure (PSI)')\n",
    "        plt.ylabel('Rs');\n",
    "        \n",
    "\n",
    "    def get_Bo(self, P):\n",
    "        \n",
    "        if self.Yo > 30:\n",
    "            c1 = 4.67e-4\n",
    "            c2 = 1.1e-5\n",
    "            c3 = 1.377e-9\n",
    "        else:\n",
    "            c1 = 4.677e-4\n",
    "            c2 = 1.751e-5\n",
    "            c3 = -1.811e-8\n",
    "\n",
    "        Bob = 1 + c1 * self.get_Rs(self.Pb) + c2 * (self.T - 60) * (\n",
    "            self.Yo / self.Yg) + c3 * self.get_Rs(self.Pb) * (self.T - 60) * (self.Yo / self.Yg)\n",
    "        \n",
    "        if P < self.Pb:\n",
    "            Bo = 1 + c1 * self.get_Rs(P) + c2 * (self.T - 60) * (\n",
    "                self.Yo / self.Yg) + c3 * self.get_Rs(P) * (self.T - 60) * (self.Yo / self.Yg)\n",
    "        else:\n",
    "            Bo = Bob * np.exp(self.co * (self.Pb - P))\n",
    "        \n",
    "        return Bo\n",
    "\n",
    "    \n",
    "    def plot_Bo(self):\n",
    "        xs = []\n",
    "        ys = []\n",
    "        psubi = 0\n",
    "        n = 1000\n",
    "        for i in range(n):\n",
    "            xs.append(psubi)\n",
    "            ys.append(self.get_Bo(psubi))\n",
    "            psubi = psubi + self.Pb * 1.5 / n\n",
    "        plt.figure(figsize=(4,3))\n",
    "        plt.plot(xs, ys);\n",
    "        plt.xlabel('Pressure (PSI)')\n",
    "        plt.ylabel('Oil FVF')\n",
    "        plt.ylim(1,2)\n",
    "    \n",
    "    def summary(self):\n",
    "        return pd.DataFrame({'Value': self.__dict__.values()}, index=self.__dict__.keys())"
   ]
  },
  {
   "cell_type": "markdown",
   "id": "latest-drinking",
   "metadata": {},
   "source": [
    "#### Create an instance of the vb_oil class:"
   ]
  },
  {
   "cell_type": "code",
   "execution_count": 3,
   "id": "refined-waste",
   "metadata": {},
   "outputs": [
    {
     "ename": "NameError",
     "evalue": "name 'numpy' is not defined",
     "output_type": "error",
     "traceback": [
      "\u001b[1;31m---------------------------------------------------------------------------\u001b[0m",
      "\u001b[1;31mNameError\u001b[0m                                 Traceback (most recent call last)",
      "\u001b[1;32m<ipython-input-3-166fbfb78529>\u001b[0m in \u001b[0;36m<module>\u001b[1;34m\u001b[0m\n\u001b[1;32m----> 1\u001b[1;33m \u001b[0moil\u001b[0m \u001b[1;33m=\u001b[0m \u001b[0mvb_oil\u001b[0m\u001b[1;33m(\u001b[0m\u001b[1;36m42\u001b[0m\u001b[1;33m,\u001b[0m \u001b[1;36m.75\u001b[0m\u001b[1;33m,\u001b[0m \u001b[1;36m800\u001b[0m\u001b[1;33m,\u001b[0m \u001b[1;36m160\u001b[0m\u001b[1;33m)\u001b[0m\u001b[1;33m\u001b[0m\u001b[1;33m\u001b[0m\u001b[0m\n\u001b[0m",
      "\u001b[1;32m<ipython-input-2-21a96aa57bce>\u001b[0m in \u001b[0;36m__init__\u001b[1;34m(self, Yo, Yg, Rsi, T)\u001b[0m\n\u001b[0;32m     38\u001b[0m         \u001b[0mself\u001b[0m\u001b[1;33m.\u001b[0m\u001b[0mT\u001b[0m \u001b[1;33m=\u001b[0m \u001b[0mT\u001b[0m\u001b[1;33m\u001b[0m\u001b[1;33m\u001b[0m\u001b[0m\n\u001b[0;32m     39\u001b[0m \u001b[1;33m\u001b[0m\u001b[0m\n\u001b[1;32m---> 40\u001b[1;33m         \u001b[0mself\u001b[0m\u001b[1;33m.\u001b[0m\u001b[0mPb\u001b[0m \u001b[1;33m=\u001b[0m \u001b[0mself\u001b[0m\u001b[1;33m.\u001b[0m\u001b[0mget_Pb\u001b[0m\u001b[1;33m(\u001b[0m\u001b[1;33m)\u001b[0m\u001b[1;33m\u001b[0m\u001b[1;33m\u001b[0m\u001b[0m\n\u001b[0m\u001b[0;32m     41\u001b[0m \u001b[1;33m\u001b[0m\u001b[0m\n\u001b[0;32m     42\u001b[0m         \u001b[0mself\u001b[0m\u001b[1;33m.\u001b[0m\u001b[0mco\u001b[0m \u001b[1;33m=\u001b[0m \u001b[1;36m.000006\u001b[0m \u001b[1;31m# for now...need to add a co function later\u001b[0m\u001b[1;33m\u001b[0m\u001b[1;33m\u001b[0m\u001b[0m\n",
      "\u001b[1;32m<ipython-input-2-21a96aa57bce>\u001b[0m in \u001b[0;36mget_Pb\u001b[1;34m(self)\u001b[0m\n\u001b[0;32m     72\u001b[0m             \u001b[0mc3\u001b[0m \u001b[1;33m=\u001b[0m \u001b[1;36m25.724\u001b[0m\u001b[1;33m\u001b[0m\u001b[1;33m\u001b[0m\u001b[0m\n\u001b[0;32m     73\u001b[0m \u001b[1;33m\u001b[0m\u001b[0m\n\u001b[1;32m---> 74\u001b[1;33m         \u001b[0mPb\u001b[0m \u001b[1;33m=\u001b[0m \u001b[1;33m(\u001b[0m\u001b[0mself\u001b[0m\u001b[1;33m.\u001b[0m\u001b[0mRsi\u001b[0m \u001b[1;33m/\u001b[0m \u001b[1;33m(\u001b[0m\u001b[0mc1\u001b[0m \u001b[1;33m*\u001b[0m \u001b[0mself\u001b[0m\u001b[1;33m.\u001b[0m\u001b[0mYg\u001b[0m \u001b[1;33m*\u001b[0m \u001b[0mnumpy\u001b[0m\u001b[1;33m.\u001b[0m\u001b[0mexp\u001b[0m\u001b[1;33m(\u001b[0m\u001b[0mc3\u001b[0m \u001b[1;33m*\u001b[0m \u001b[1;33m(\u001b[0m\u001b[0mself\u001b[0m\u001b[1;33m.\u001b[0m\u001b[0mYo\u001b[0m \u001b[1;33m/\u001b[0m \u001b[1;33m(\u001b[0m\u001b[0mself\u001b[0m\u001b[1;33m.\u001b[0m\u001b[0mT\u001b[0m \u001b[1;33m+\u001b[0m \u001b[1;36m460\u001b[0m\u001b[1;33m)\u001b[0m\u001b[1;33m)\u001b[0m\u001b[1;33m)\u001b[0m\u001b[1;33m)\u001b[0m\u001b[1;33m)\u001b[0m \u001b[1;33m**\u001b[0m \u001b[1;33m(\u001b[0m\u001b[1;36m1\u001b[0m \u001b[1;33m/\u001b[0m \u001b[0mc2\u001b[0m\u001b[1;33m)\u001b[0m\u001b[1;33m\u001b[0m\u001b[1;33m\u001b[0m\u001b[0m\n\u001b[0m\u001b[0;32m     75\u001b[0m         \u001b[1;32mreturn\u001b[0m \u001b[0mPb\u001b[0m\u001b[1;33m\u001b[0m\u001b[1;33m\u001b[0m\u001b[0m\n\u001b[0;32m     76\u001b[0m \u001b[1;33m\u001b[0m\u001b[0m\n",
      "\u001b[1;31mNameError\u001b[0m: name 'numpy' is not defined"
     ]
    }
   ],
   "source": [
    "oil = vb_oil(42, .75, 800, 160)"
   ]
  },
  {
   "cell_type": "markdown",
   "id": "saving-translator",
   "metadata": {},
   "source": [
    "#### Test the vb_oil methods using the created instance:"
   ]
  },
  {
   "cell_type": "code",
   "execution_count": 66,
   "id": "pregnant-reggae",
   "metadata": {},
   "outputs": [
    {
     "data": {
      "text/plain": [
       "['Pb',\n",
       " 'Rsi',\n",
       " 'T',\n",
       " 'Yg',\n",
       " 'Yo',\n",
       " 'co',\n",
       " 'get_Bo',\n",
       " 'get_Pb',\n",
       " 'get_Rs',\n",
       " 'plot_Bo',\n",
       " 'plot_Rs',\n",
       " 'summary']"
      ]
     },
     "execution_count": 66,
     "metadata": {},
     "output_type": "execute_result"
    }
   ],
   "source": [
    "[i for i in dir(oil) if not i.startswith('__')]"
   ]
  },
  {
   "cell_type": "code",
   "execution_count": 67,
   "id": "beginning-stand",
   "metadata": {},
   "outputs": [
    {
     "data": {
      "text/html": [
       "<div>\n",
       "<style scoped>\n",
       "    .dataframe tbody tr th:only-of-type {\n",
       "        vertical-align: middle;\n",
       "    }\n",
       "\n",
       "    .dataframe tbody tr th {\n",
       "        vertical-align: top;\n",
       "    }\n",
       "\n",
       "    .dataframe thead th {\n",
       "        text-align: right;\n",
       "    }\n",
       "</style>\n",
       "<table border=\"1\" class=\"dataframe\">\n",
       "  <thead>\n",
       "    <tr style=\"text-align: right;\">\n",
       "      <th></th>\n",
       "      <th>Value</th>\n",
       "    </tr>\n",
       "  </thead>\n",
       "  <tbody>\n",
       "    <tr>\n",
       "      <th>Yo</th>\n",
       "      <td>42.000000</td>\n",
       "    </tr>\n",
       "    <tr>\n",
       "      <th>Yg</th>\n",
       "      <td>0.750000</td>\n",
       "    </tr>\n",
       "    <tr>\n",
       "      <th>Rsi</th>\n",
       "      <td>800.000000</td>\n",
       "    </tr>\n",
       "    <tr>\n",
       "      <th>T</th>\n",
       "      <td>160.000000</td>\n",
       "    </tr>\n",
       "    <tr>\n",
       "      <th>Pb</th>\n",
       "      <td>2702.783305</td>\n",
       "    </tr>\n",
       "    <tr>\n",
       "      <th>co</th>\n",
       "      <td>0.000006</td>\n",
       "    </tr>\n",
       "  </tbody>\n",
       "</table>\n",
       "</div>"
      ],
      "text/plain": [
       "           Value\n",
       "Yo     42.000000\n",
       "Yg      0.750000\n",
       "Rsi   800.000000\n",
       "T     160.000000\n",
       "Pb   2702.783305\n",
       "co      0.000006"
      ]
     },
     "execution_count": 67,
     "metadata": {},
     "output_type": "execute_result"
    }
   ],
   "source": [
    "oil.summary()"
   ]
  },
  {
   "cell_type": "code",
   "execution_count": 68,
   "id": "significant-parallel",
   "metadata": {
    "scrolled": false
   },
   "outputs": [
    {
     "data": {
      "image/png": "[encoded data removed]",
      "text/plain": [
       "<Figure size 288x216 with 1 Axes>"
      ]
     },
     "metadata": {},
     "output_type": "display_data"
    },
    {
     "data": {
      "image/png": "[encoded data removed]",
      "text/plain": [
       "<Figure size 288x216 with 1 Axes>"
      ]
     },
     "metadata": {},
     "output_type": "display_data"
    }
   ],
   "source": [
    "oil.plot_Rs()\n",
    "oil.plot_Bo()"
   ]
  },
  {
   "cell_type": "code",
   "execution_count": null,
   "id": "severe-female",
   "metadata": {},
   "outputs": [],
   "source": []
  },
  {
   "cell_type": "code",
   "execution_count": null,
   "id": "joined-stephen",
   "metadata": {},
   "outputs": [],
   "source": []
  },
  {
   "cell_type": "code",
   "execution_count": null,
   "id": "inclusive-portfolio",
   "metadata": {},
   "outputs": [],
   "source": []
  }
 ],
 "metadata": {
  "kernelspec": {
   "display_name": "Python 3",
   "language": "python",
   "name": "python3"
  },
  "language_info": {
   "codemirror_mode": {
    "name": "ipython",
    "version": 3
   },
   "file_extension": ".py",
   "mimetype": "text/x-python",
   "name": "python",
   "nbconvert_exporter": "python",
   "pygments_lexer": "ipython3",
   "version": "3.7.9"
  }
 },
 "nbformat": 4,
 "nbformat_minor": 5
}
